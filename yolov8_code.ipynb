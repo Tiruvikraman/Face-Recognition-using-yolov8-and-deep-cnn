{
 "cells": [
  {
   "cell_type": "code",
   "execution_count": null,
   "metadata": {},
   "outputs": [],
   "source": [
    "!pip install ultralytics==8.0.0\n"
   ]
  },
  {
   "cell_type": "code",
   "execution_count": 1,
   "metadata": {},
   "outputs": [],
   "source": [
    "import cv2\n",
    "import os\n",
    "from ultralytics import YOLO\n",
    "from PIL import Image\n",
    "yolo_model = YOLO(r'D:\\kk\\face-detection-yolov8\\yolov8n-face.pt')\n"
   ]
  },
  {
   "cell_type": "code",
   "execution_count": 5,
   "metadata": {},
   "outputs": [
    {
     "name": "stdout",
     "output_type": "stream",
     "text": [
      "\n",
      "image 1/1 D:\\kk\\b11b5c3b-c67c-4d3d-9a7e-d2fab4d9915a.jpg: 640x320 1 face, 110.6ms\n",
      "Speed: 3.2ms preprocess, 110.6ms inference, 0.0ms postprocess per image at shape (1, 3, 640, 320)\n",
      "Results saved to \u001b[1mruns\\detect\\predict\u001b[0m\n"
     ]
    }
   ],
   "source": [
    "r=yolo_model(source=r'D:\\kk\\b11b5c3b-c67c-4d3d-9a7e-d2fab4d9915a.jpg',show=1==2,save=True,conf=.4)"
   ]
  },
  {
   "cell_type": "code",
   "execution_count": 5,
   "metadata": {},
   "outputs": [
    {
     "name": "stdout",
     "output_type": "stream",
     "text": [
      "\n",
      "image 1/1 D:\\kk\\b11b5c3b-c67c-4d3d-9a7e-d2fab4d9915a.jpg: 640x320 1 face, 97.9ms\n",
      "Speed: 0.0ms preprocess, 97.9ms inference, 0.0ms postprocess per image at shape (1, 3, 640, 320)\n"
     ]
    }
   ],
   "source": [
    "yolo_model = YOLO(r'D:\\kk\\face-detection-yolov8\\yolov8n-face.pt')\n",
    "output_directory = r'output_faces'\n",
    "os.makedirs(output_directory, exist_ok=True)\n",
    "image_path = r'D:\\kk\\b11b5c3b-c67c-4d3d-9a7e-d2fab4d9915a.jpg'\n",
    "image = cv2.imread(image_path)\n",
    "image = cv2.cvtColor(image, cv2.COLOR_BGR2RGB)\n",
    "results = yolo_model(source=image_path)[0]\n",
    "if results.boxes.data.tolist():\n",
    "    for result in results.boxes.data.tolist():\n",
    "        x1, y1, x2, y2, score, class_id = result\n",
    "        if score > 0.3: \n",
    "            face_region = image[int(y1):int(y2), int(x1):int(x2)]\n",
    "            face_output_path = os.path.join(output_directory, f\"face_{score:.2f}.jpg\")\n",
    "            cv2.imwrite(face_output_path, cv2.cvtColor(face_region, cv2.COLOR_RGB2BGR))\n",
    "\n",
    "            \n"
   ]
  },
  {
   "cell_type": "code",
   "execution_count": null,
   "metadata": {},
   "outputs": [],
   "source": []
  }
 ],
 "metadata": {
  "kernelspec": {
   "display_name": "Python 3",
   "language": "python",
   "name": "python3"
  },
  "language_info": {
   "codemirror_mode": {
    "name": "ipython",
    "version": 3
   },
   "file_extension": ".py",
   "mimetype": "text/x-python",
   "name": "python",
   "nbconvert_exporter": "python",
   "pygments_lexer": "ipython3",
   "version": "3.11.1"
  }
 },
 "nbformat": 4,
 "nbformat_minor": 2
}
