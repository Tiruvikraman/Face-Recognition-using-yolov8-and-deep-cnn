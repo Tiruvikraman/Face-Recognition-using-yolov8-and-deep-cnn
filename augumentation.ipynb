{
 "cells": [
  {
   "cell_type": "code",
   "execution_count": null,
   "metadata": {},
   "outputs": [],
   "source": [
    "import os\n",
    "import cv2\n",
    "import imgaug.augmenters as iaa\n",
    "\n",
    "l=os.listdir('students')\n",
    "print(l)\n",
    "for i in l:\n",
    "    dataset_folder =f'D:\\kk\\students\\{i}'\n",
    "\n",
    "    output_folder = \"augumented_dataset_yolo111/\" + i\n",
    "    os.makedirs(output_folder, exist_ok=True)\n",
    "\n",
    "    image_files = [f for f in os.listdir(dataset_folder) if f.endswith(('.jpg', '.png', '.jpeg'))]\n",
    "\n",
    "    augmentation_factor = 17\n",
    "    augmentation = iaa.Sequential([\n",
    "        iaa.ContrastNormalization((0.5, 2.0)), \n",
    "        iaa.Sometimes(0.5, iaa.AddToBrightness((-50, 50))), \n",
    "        iaa.Sometimes(0.5, iaa.AddToHue((-20, 20))), \n",
    "        iaa.Sometimes(0.5, iaa.AddToSaturation((-30, 30)))  \n",
    "    ])\n",
    "\n",
    "    for image_file in image_files:\n",
    "        image_path = os.path.join(dataset_folder, image_file)\n",
    "        original_image = cv2.imread(image_path)\n",
    "\n",
    "        for i in range(augmentation_factor):\n",
    "            augmented_image = augmentation(image=original_image)\n",
    "            output_file = f\"augmented_{i}_{image_file}\"\n",
    "            output_path = os.path.join(output_folder, output_file)\n",
    "            cv2.imwrite(output_path, augmented_image)"
   ]
  },
  {
   "cell_type": "code",
   "execution_count": null,
   "metadata": {},
   "outputs": [],
   "source": []
  }
 ],
 "metadata": {
  "kernelspec": {
   "display_name": "Python 3",
   "language": "python",
   "name": "python3"
  },
  "language_info": {
   "codemirror_mode": {
    "name": "ipython",
    "version": 3
   },
   "file_extension": ".py",
   "mimetype": "text/x-python",
   "name": "python",
   "nbconvert_exporter": "python",
   "pygments_lexer": "ipython3",
   "version": "3.11.1"
  }
 },
 "nbformat": 4,
 "nbformat_minor": 2
}
